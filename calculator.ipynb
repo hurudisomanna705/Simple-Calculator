{
  "nbformat": 4,
  "nbformat_minor": 0,
  "metadata": {
    "colab": {
      "provenance": [],
      "authorship_tag": "ABX9TyNe43la11qnJKuMPOzQZTf0",
      "include_colab_link": true
    },
    "kernelspec": {
      "name": "python3",
      "display_name": "Python 3"
    },
    "language_info": {
      "name": "python"
    }
  },
  "cells": [
    {
      "cell_type": "markdown",
      "metadata": {
        "id": "view-in-github",
        "colab_type": "text"
      },
      "source": [
        "<a href=\"https://colab.research.google.com/github/hurudisomanna705/Simple-Calculator/blob/main/calculator.ipynb\" target=\"_parent\"><img src=\"https://colab.research.google.com/assets/colab-badge.svg\" alt=\"Open In Colab\"/></a>"
      ]
    },
    {
      "cell_type": "code",
      "source": [
        "a=float(input('number1:'));\n",
        "b=float(input('number2:'));\n",
        "operator=input('sign:');\n",
        "def add(a,b):\n",
        "  A=a+b;\n",
        "  print(A)\n",
        "def sub(a,b):\n",
        "  B=a-b;\n",
        "  print(B)\n",
        "def mult(a,b):\n",
        "  C=a*b;\n",
        "  print(C)\n",
        "def div(a,b):\n",
        "  D=a/b;\n",
        "  print(D)\n",
        "def rem(a,b):\n",
        "  E=a%b;\n",
        "  print(E)\n",
        "#= -assign; == - compare\n",
        "if(operator=='+'):\n",
        "  add(a,b);\n",
        "elif(operator=='-'):\n",
        "  sub(a,b);\n",
        "elif(operator=='*'):\n",
        "  mul(a,b);\n",
        "elif(operator=='/'):\n",
        "  div(a,b);\n",
        "elif(operator=='%'):\n",
        "  rem(a,b);\n",
        "else:\n",
        "  print('invalid' )\n"
      ],
      "metadata": {
        "colab": {
          "base_uri": "https://localhost:8080/"
        },
        "id": "ppzqTFoLGIc9",
        "outputId": "484a0612-c1b9-43e9-f166-9cc1184cceee"
      },
      "execution_count": 7,
      "outputs": [
        {
          "output_type": "stream",
          "name": "stdout",
          "text": [
            "number1:2\n",
            "number2:3\n",
            "sign:/\n",
            "0.6666666666666666\n"
          ]
        }
      ]
    },
    {
      "cell_type": "code",
      "execution_count": 7,
      "metadata": {
        "colab": {
          "base_uri": "https://localhost:8080/"
        },
        "id": "7Pa1YRFJGHQp",
        "outputId": "cdd20eee-16b2-4f75-ac53-5dba4cf9852f"
      },
      "outputs": [
        {
          "output_type": "stream",
          "name": "stdout",
          "text": [
            "a:2\n",
            "b:3\n",
            "c:4\n",
            "(-3+1.1989578808281798j) (-3-1.1989578808281798j)\n"
          ]
        }
      ],
      "source": [
        "#quadratic solve\n",
        "import cmath\n",
        "a=int(input('a:'));\n",
        "b=int(input('b:'));\n",
        "c=int(input('c:'));\n",
        "d=b**2-4*a*c;\n",
        "z1=(-b+cmath.sqrt(d)/(2*a));\n",
        "z2=(-b-cmath.sqrt(d)/(2*a));\n",
        "print(z1,z2)"
      ]
    },
    {
      "cell_type": "code",
      "source": [
        "#factorial\n",
        "n=int(input('number:'));\n",
        "fact=1;\n",
        "if n<0:\n",
        "  print('invalid')\n",
        "elif n==0:\n",
        "  print('factorial is 1') ;\n",
        "else:\n",
        "  for i in range(1,n+1):\n",
        "    fact=fact*i\n",
        "    print(fact)"
      ],
      "metadata": {
        "colab": {
          "base_uri": "https://localhost:8080/"
        },
        "id": "eTZOSUXgdSig",
        "outputId": "eec1135f-20a8-4eb2-f828-23dc62b53ef8"
      },
      "execution_count": 11,
      "outputs": [
        {
          "output_type": "stream",
          "name": "stdout",
          "text": [
            "number:0\n",
            "factorial is 1\n"
          ]
        }
      ]
    },
    {
      "cell_type": "code",
      "source": [
        "#reverse number\n",
        "def rev_number(n):\n",
        "  rev_number=0\n",
        "  while n>0:\n",
        "    d=n%10\n",
        "    rev_number=rev_number*10+d\n",
        "    n=n//10\n",
        "  return rev_number\n",
        "n=int(input('number:'));\n",
        "rev_number=rev_number(n)\n",
        "print(rev_number)"
      ],
      "metadata": {
        "colab": {
          "base_uri": "https://localhost:8080/"
        },
        "id": "1kzlW3J6fdCr",
        "outputId": "8ee66011-c865-44c7-8797-671aba3ac252"
      },
      "execution_count": 40,
      "outputs": [
        {
          "output_type": "stream",
          "name": "stdout",
          "text": [
            "number:123\n",
            "321\n"
          ]
        }
      ]
    },
    {
      "cell_type": "code",
      "source": [
        "#swap number without using temporary variable\n",
        "a=1;\n",
        "b=2;\n",
        "a,b=b,a;\n",
        "print(a,end=\"\")\n",
        "print(b)"
      ],
      "metadata": {
        "colab": {
          "base_uri": "https://localhost:8080/"
        },
        "id": "OnbvrJWsg5Gr",
        "outputId": "9db1f716-56af-493e-a474-af580c0fbe62"
      },
      "execution_count": 24,
      "outputs": [
        {
          "output_type": "stream",
          "name": "stdout",
          "text": [
            "21\n"
          ]
        }
      ]
    },
    {
      "cell_type": "code",
      "source": [
        "#calender\n",
        "import calendar\n",
        "year=int(input('year:'));\n",
        "month=int(input('month:'));\n",
        "cal=calendar.month(year,month)\n",
        "print(cal)"
      ],
      "metadata": {
        "colab": {
          "base_uri": "https://localhost:8080/"
        },
        "id": "cMqqqiEnhN8V",
        "outputId": "453427eb-dd4a-4852-b38b-fbe97e7bc08a"
      },
      "execution_count": 29,
      "outputs": [
        {
          "output_type": "stream",
          "name": "stdout",
          "text": [
            "year:2024\n",
            "month:4\n",
            "     April 2024\n",
            "Mo Tu We Th Fr Sa Su\n",
            " 1  2  3  4  5  6  7\n",
            " 8  9 10 11 12 13 14\n",
            "15 16 17 18 19 20 21\n",
            "22 23 24 25 26 27 28\n",
            "29 30\n",
            "\n"
          ]
        }
      ]
    },
    {
      "cell_type": "code",
      "source": [],
      "metadata": {
        "id": "kLXub_5iipI7"
      },
      "execution_count": null,
      "outputs": []
    },
    {
      "cell_type": "code",
      "source": [
        "\n",
        "from operators import *\n",
        "a=float(input('number1:'));\n",
        "b=float(input('number2:'));\n",
        "operator=input('sign:');\n",
        "#= -assign; == - compare\n",
        "if(operator=='+'):\n",
        "  add(a,b);\n",
        "elif(operator=='-'):\n",
        "  sub(a,b);\n",
        "elif(operator=='*'):\n",
        "  mul(a,b);\n",
        "elif(operator=='/'):\n",
        "  div(a,b);\n",
        "elif(operator=='**'):\n",
        "  exp(a,b);\n",
        "elif(operator=='%'):\n",
        "  rem(a,b);\n",
        "else:\n",
        " print('invalid')\n",
        "\n"
      ],
      "metadata": {
        "colab": {
          "base_uri": "https://localhost:8080/"
        },
        "id": "K8gk-60SJ0bB",
        "outputId": "f4d1fc96-4dc9-4584-99d4-71b23bfa6e2e"
      },
      "execution_count": 9,
      "outputs": [
        {
          "output_type": "stream",
          "name": "stdout",
          "text": [
            "number1:2\n",
            "number2:2\n",
            "sign:+\n",
            "4.0\n"
          ]
        }
      ]
    },
    {
      "cell_type": "code",
      "source": [],
      "metadata": {
        "id": "OC-S1ZPgOXKp"
      },
      "execution_count": null,
      "outputs": []
    }
  ]
}